{
 "cells": [
  {
   "cell_type": "markdown",
   "metadata": {},
   "source": [
    "# Nearest Neighbor Movie Recommender Tutorial"
   ]
  },
  {
   "cell_type": "code",
   "execution_count": null,
   "metadata": {
    "collapsed": false
   },
   "outputs": [],
   "source": [
    "# Run this cell when you open the worksheet.\n",
    "%load_ext autoreload\n",
    "%autoreload 2\n",
    "from recommend import *"
   ]
  },
  {
   "cell_type": "markdown",
   "metadata": {},
   "source": [
    "## Exercise: write the distance functions\n",
    "Write the functions to calculate the Euclidean and Manhattan distances using what you learned in the lecture. Ask for help if you get stuck!"
   ]
  },
  {
   "cell_type": "code",
   "execution_count": null,
   "metadata": {
    "collapsed": true
   },
   "outputs": [],
   "source": [
    "def eucl_dist(vec1,vec2):\n",
    "    \"\"\"Returns the Euclidean distance between vec1 and vec2.\n",
    "    Inputs:\n",
    "        vec1, vec2: Python lists of floats\n",
    "    Returns:\n",
    "        a float\"\"\"\n",
    "    pass\n",
    "\n",
    "def manh_dist(vec1, vec2):\n",
    "    \"\"\"Returns the Manhattan distance between vec1 and vec2.\n",
    "    Inputs:\n",
    "        vec1, vec2: Python lists of floats\n",
    "    Returns:\n",
    "        a float\"\"\"\n",
    "    pass"
   ]
  },
  {
   "cell_type": "markdown",
   "metadata": {},
   "source": [
    "Once you've written the functions, run this cell to check your work."
   ]
  },
  {
   "cell_type": "code",
   "execution_count": null,
   "metadata": {
    "collapsed": false
   },
   "outputs": [],
   "source": [
    "v1 = [-5,3,12,-23,1]\n",
    "v2 = [0,-7,10,-17,-1]\n",
    "print \"Testing Euclidean function...\",\n",
    "if eucl_dist(v1,v2)==13:\n",
    "    print \"looks good!\"\n",
    "else:\n",
    "    print \"something's not right :(\"\n",
    "print \"Testing Manhattan function...\",\n",
    "if manh_dist(v1,v2)==25:\n",
    "    print \"looks good!\"\n",
    "else:\n",
    "    print \"something's not right :(\""
   ]
  },
  {
   "cell_type": "markdown",
   "metadata": {},
   "source": [
    "## Activity: make a good movie recommender\n",
    "The next piece of code determines which features will be used to compare movies. Currently we only have the \"year\" and \"runtime\" features turned on. Change the number next to a feature to 1 to use the feature, or 0 to ignore it. \n",
    "\n",
    "You can even set the weights to values other than 0 or 1! For example, set a feature weight to 10 if you want it to be really important, or to 0.1 if you want it to be less important (but not completely ignored). Just no negative numbers.\n",
    "\n",
    "When you've selected your features and their weights, run the cell to see the films that are the nearest neighbors to \"Harry Potter and the Goblet of Fire\". \n",
    "\n",
    "* Keep tinkering with the features to see how it affects the recommendations. Try to get really good movie recommendations!\n",
    "* Once you've got good recommendations for Harry Potter, try entering other films. Are the recommendations still good? Ideally you want feature weights that work well for all movies.\n",
    "* Look at the challenges on the board!\n"
   ]
  },
  {
   "cell_type": "code",
   "execution_count": null,
   "metadata": {
    "collapsed": false
   },
   "outputs": [],
   "source": [
    "feature_weights = {\n",
    "    'year' : 1, # year of release\n",
    "    'rating': 0, # IMDB rating out of 10\n",
    "    'runtime': 1, # runtime in minutes\n",
    "    'mpaa': 0, # MPAA rating e.g. PG or R\n",
    "    'votes': 0, # number of voters on IMDB\n",
    "    'genres': 0,\n",
    "    'countries': 0,\n",
    "    'languages': 0,\n",
    "    'aspect ratio': 0, # ratio of picture size\n",
    "    'director': 0,\n",
    "    'cast': 0, # top three actors\n",
    "    'production companies': 0\n",
    "}\n",
    "\n",
    "get_recommendations(\"Harry Potter and the Goblet of Fire\", feature_weights, eucl_dist)"
   ]
  },
  {
   "cell_type": "code",
   "execution_count": null,
   "metadata": {
    "collapsed": true
   },
   "outputs": [],
   "source": []
  }
 ],
 "metadata": {
  "kernelspec": {
   "display_name": "Python 2",
   "language": "python",
   "name": "python2"
  },
  "language_info": {
   "codemirror_mode": {
    "name": "ipython",
    "version": 2
   },
   "file_extension": ".py",
   "mimetype": "text/x-python",
   "name": "python",
   "nbconvert_exporter": "python",
   "pygments_lexer": "ipython2",
   "version": "2.7.12"
  }
 },
 "nbformat": 4,
 "nbformat_minor": 0
}
