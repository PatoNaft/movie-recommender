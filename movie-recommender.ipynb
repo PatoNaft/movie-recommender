{
 "cells": [
  {
   "cell_type": "markdown",
   "metadata": {},
   "source": [
    "# Nearest Neighbor Movie Recommender Tutorial"
   ]
  },
  {
   "cell_type": "markdown",
   "metadata": {},
   "source": [
    "Welcome! This is an iPython notebook, which is a way to write and run interactive Python programs. \n",
    "\n",
    "The notebook has *cells* which contain code. To run a cell, select it and press Shift+Enter."
   ]
  },
  {
   "cell_type": "code",
   "execution_count": null,
   "metadata": {
    "collapsed": false
   },
   "outputs": [],
   "source": [
    "# Run this cell once when you open the worksheet.\n",
    "%reload_ext autoreload\n",
    "%autoreload 2\n",
    "from recommend import *\n",
    "\n",
    "title2MVec_norm, title2movie = init()"
   ]
  },
  {
   "cell_type": "markdown",
   "metadata": {},
   "source": [
    "## Activity: Choose your feature weights\n",
    "The next piece of code determines which features will be used to compare movies. Currently we only have the \"year\" and \"runtime\" features turned on. Change the number next to a feature to 1 to use the feature, or 0 to ignore it. \n",
    "\n",
    "In fact you can give each feature any weight you like, like 0.5 (half as important), 2 (twice as important), or 10 (ten times as important), depending on how important you think each feature is. Just no negative numbers!\n",
    "\n",
    "When you've selected your features and their weights, run the cell to save the weights, then run the cell below to see the movies that are the nearest neighbors to *Harry Potter and the Goblet of Fire*. \n",
    "\n",
    "* Keep tinkering with the feature weights to see how it affects the recommendations. Try to get really good movie recommendations!\n",
    "* Once you've got good recommendations for Harry Potter, try entering other movies into the cell. Once you've got good recommendations for that movie, check back with Harry Potter. Are the recommendations still good? You want to find feature weights that simultaneously work well for *all* movies.\n",
    "* Look at the challenges on the board!\n"
   ]
  },
  {
   "cell_type": "code",
   "execution_count": null,
   "metadata": {
    "collapsed": false
   },
   "outputs": [],
   "source": [
    "# Make sure that each number is followed by a comma or you will get an \"invalid syntax\" error when you run this cell\n",
    "# You need to run this cell EVERY TIME you change the feature weights, or your changes won't have effect!\n",
    "\n",
    "feat2weight = {\n",
    "    'year': 1.0,\n",
    "    'runtime': 1.0,\n",
    "    'rating': 0.0,\n",
    "    'mpaa': 0.0,\n",
    "    'votes': 0.0,\n",
    "    '% votes female': 0.0,\n",
    "    '% votes non-US': 0.0,\n",
    "    'age bracket with most votes': 0.0,\n",
    "    'alcohol/drugs/smoking': 0.0,\n",
    "    'frightening/intense scenes': 0.0,\n",
    "    'profanity': 0.0,\n",
    "    'sex & nudity': 0.0,\n",
    "    'violence & gore': 0.0,\n",
    "    'genres': 0.0,\n",
    "    'countries': 0.0,\n",
    "    'languages': 0.0,\n",
    "    'aspect ratio': 0.0,\n",
    "    'director': 0.0,\n",
    "    'cast': 0.0,\n",
    "    'production companies': 0.0,\n",
    "    'cinematographer': 0.0,\n",
    "    'original music': 0.0,\n",
    "    'producer': 0.0,\n",
    "    'writer': 0.0,\n",
    "    'keywords': 0.0,    \n",
    "}"
   ]
  },
  {
   "cell_type": "code",
   "execution_count": null,
   "metadata": {
    "collapsed": false,
    "scrolled": true
   },
   "outputs": [],
   "source": [
    "get_recommendations(\"harry potter and the goblet of fire\", feat2weight, title2MVec_norm, title2movie)"
   ]
  },
  {
   "cell_type": "markdown",
   "metadata": {},
   "source": [
    "## Check your overall score\n",
    "\n",
    "To check the quality of your recommendations on the entire dataset, you can run the cell below to get your overall score. Your score is based on comparing your nearest neighbor recommendations with the recommendations that IMDb provides. \n",
    "\n",
    "For example, we have a dataset of 240 movies and *Alien* -> *The Terminator* is a recommendation pair provided by IMDb. We ask your recommender system to rank the whole dataset (except *Alien*, so 239 movies) in terms of closeness to *Alien*. Each movie has a recommendation rank from 0 (the closest movie) to 238 (the furthest movie). Suppose *The Terminator* has a recommendation rank of 58. Then your score for this pair is: 58/238 = 24.37%, where 0 is best and 100 is worst. The closer your system ranks *The Terminator* to *Alien*, the lower (and better) your score.\n",
    "\n",
    "Your overall score is the mean average of your score for each recommendation pair provided by IMDb."
   ]
  },
  {
   "cell_type": "code",
   "execution_count": null,
   "metadata": {
    "collapsed": false
   },
   "outputs": [],
   "source": [
    "get_score(feat2weight, title2MVec_norm, title2movie)"
   ]
  },
  {
   "cell_type": "code",
   "execution_count": null,
   "metadata": {
    "collapsed": true
   },
   "outputs": [],
   "source": []
  }
 ],
 "metadata": {
  "anaconda-cloud": {},
  "kernelspec": {
   "display_name": "Python [default]",
   "language": "python",
   "name": "python2"
  },
  "language_info": {
   "codemirror_mode": {
    "name": "ipython",
    "version": 2
   },
   "file_extension": ".py",
   "mimetype": "text/x-python",
   "name": "python",
   "nbconvert_exporter": "python",
   "pygments_lexer": "ipython2",
   "version": "2.7.12"
  }
 },
 "nbformat": 4,
 "nbformat_minor": 0
}
